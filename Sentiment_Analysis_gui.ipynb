{
 "cells": [
  {
   "cell_type": "code",
   "execution_count": null,
   "id": "f04db3da",
   "metadata": {},
   "outputs": [],
   "source": [
    "!pip install PySimpleGUI"
   ]
  },
  {
   "cell_type": "code",
   "execution_count": null,
   "id": "5000d0af",
   "metadata": {},
   "outputs": [],
   "source": [
    "import PySimpleGUI as sg\n",
    "from textblob import TextBlob\n",
    "# Define the layout\n",
    "layout = [\n",
    "    [sg.Text('Enter your text:')],\n",
    "    [sg.Multiline(size=(40, 5), key='-TEXT-')],\n",
    "    [sg.Button('Analyze'), sg.Exit()],\n",
    "    [sg.Text('Sentiment:', size=(10, 1)), sg.Text('', key='-SENTIMENT-')]\n",
    "]\n",
    "\n",
    "# Initialize the window\n",
    "window = sg.Window('Sentiment Analyzer', layout, size=(400, 300))\n",
    "\n",
    "while True:\n",
    "    # Read the window events\n",
    "    event, values = window.read()\n",
    "\n",
    "    # If the user closes the window or presses the 'Analyze' button\n",
    "    if event in (sg.WIN_CLOSED, 'Analyze'):\n",
    "        # Get the user input\n",
    "        text = values['-TEXT-']\n",
    "\n",
    "        # Analyze the sentiment using TextBlob\n",
    "        sentiment = TextBlob(text).sentiment.polarity\n",
    "\n",
    "        # Show the sentiment prediction results\n",
    "        if sentiment > 0:\n",
    "            window['-SENTIMENT-'].update('Positive')\n",
    "        elif sentiment < 0:\n",
    "            window['-SENTIMENT-'].update('Negative')\n",
    "        else:\n",
    "            window['-SENTIMENT-'].update('Neutral')\n",
    "\n",
    "    # If the user presses the 'Exit' button\n",
    "    if event == sg.WIN_CLOSED:\n",
    "        # Break the loop\n",
    "        break\n",
    "\n",
    "# Destroy the window\n",
    "window.close()"
   ]
  },
  {
   "cell_type": "code",
   "execution_count": null,
   "id": "e88ecfa7",
   "metadata": {},
   "outputs": [],
   "source": [
    "!pip install textblob"
   ]
  },
  {
   "cell_type": "code",
   "execution_count": null,
   "id": "e1743d93",
   "metadata": {},
   "outputs": [],
   "source": []
  }
 ],
 "metadata": {
  "kernelspec": {
   "display_name": "Python 3 (ipykernel)",
   "language": "python",
   "name": "python3"
  },
  "language_info": {
   "codemirror_mode": {
    "name": "ipython",
    "version": 3
   },
   "file_extension": ".py",
   "mimetype": "text/x-python",
   "name": "python",
   "nbconvert_exporter": "python",
   "pygments_lexer": "ipython3",
   "version": "3.11.5"
  }
 },
 "nbformat": 4,
 "nbformat_minor": 5
}
